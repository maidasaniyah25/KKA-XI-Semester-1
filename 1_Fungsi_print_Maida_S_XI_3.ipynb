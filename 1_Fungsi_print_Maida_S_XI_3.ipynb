{
  "nbformat": 4,
  "nbformat_minor": 0,
  "metadata": {
    "colab": {
      "provenance": [],
      "authorship_tag": "ABX9TyNMUCXmP1SXjXL7iM4OPj26",
      "include_colab_link": true
    },
    "kernelspec": {
      "name": "python3",
      "display_name": "Python 3"
    },
    "language_info": {
      "name": "python"
    }
  },
  "cells": [
    {
      "cell_type": "markdown",
      "metadata": {
        "id": "view-in-github",
        "colab_type": "text"
      },
      "source": [
        "<a href=\"https://colab.research.google.com/github/maidasaniyah25/KKA-XI-Semester-1/blob/main/1_Fungsi_print_Maida_S_XI_3.ipynb\" target=\"_parent\"><img src=\"https://colab.research.google.com/assets/colab-badge.svg\" alt=\"Open In Colab\"/></a>"
      ]
    },
    {
      "cell_type": "markdown",
      "source": [
        "Nama: Maida Saniyah\n",
        "\n",
        "kelas: XI.3\n",
        "\n",
        "No. Absen:10"
      ],
      "metadata": {
        "id": "JKqkEYzmUie4"
      }
    },
    {
      "cell_type": "markdown",
      "source": [
        "#Menampilkan String (Teks Bebas)"
      ],
      "metadata": {
        "id": "t7OauapuUde0"
      }
    },
    {
      "cell_type": "code",
      "execution_count": null,
      "metadata": {
        "id": "3IA19Sl8UFYx",
        "colab": {
          "base_uri": "https://localhost:8080/"
        },
        "outputId": "36c19c88-f7a9-4995-e047-f2ce498a8f6e"
      },
      "outputs": [
        {
          "output_type": "stream",
          "name": "stdout",
          "text": [
            "Maida Saniyah\n"
          ]
        }
      ],
      "source": [
        "print (\"Maida Saniyah\")"
      ]
    },
    {
      "cell_type": "markdown",
      "source": [
        "#Menampilkan Nilai Variabel"
      ],
      "metadata": {
        "id": "jLoxhHR6WalC"
      }
    },
    {
      "cell_type": "code",
      "source": [
        "Nama = \"Maida Saniyah\"\n",
        "Usia = 16\n",
        "Tinggi_Badan = 152\n",
        "\n",
        "print(Nama)\n",
        "print(Usia)\n",
        "print(Tinggi_Badan)"
      ],
      "metadata": {
        "colab": {
          "base_uri": "https://localhost:8080/"
        },
        "id": "Bk4UdiseWiJQ",
        "outputId": "c5b88258-4321-4270-fb6b-3250cd5d1a65"
      },
      "execution_count": null,
      "outputs": [
        {
          "output_type": "stream",
          "name": "stdout",
          "text": [
            "Maida Saniyah\n",
            "16\n",
            "152\n"
          ]
        }
      ]
    },
    {
      "cell_type": "markdown",
      "source": [
        "#menampilkan string dan Nilai Variabel"
      ],
      "metadata": {
        "id": "adhDKCyJUjW_"
      }
    },
    {
      "cell_type": "code",
      "source": [
        "print(\"Halo nama saya\",Nama,\".Tinggi Badan saya adalah\",Tinggi_Badan,\"cm.\")"
      ],
      "metadata": {
        "colab": {
          "base_uri": "https://localhost:8080/"
        },
        "id": "GeYEI47TU19_",
        "outputId": "e30429bb-ee8e-4d79-b360-d7c2609a2f22"
      },
      "execution_count": null,
      "outputs": [
        {
          "output_type": "stream",
          "name": "stdout",
          "text": [
            "Halo nama saya Maida Saniyah .Tinggi Badan saya adalah 152 cm.\n"
          ]
        }
      ]
    },
    {
      "cell_type": "code",
      "source": [
        "Berat_Badan = 50\n",
        "print(Berat_Badan)"
      ],
      "metadata": {
        "colab": {
          "base_uri": "https://localhost:8080/"
        },
        "id": "-HutFBX6W-Hc",
        "outputId": "de00744f-c992-499d-dbee-b05692c18408"
      },
      "execution_count": null,
      "outputs": [
        {
          "output_type": "stream",
          "name": "stdout",
          "text": [
            "50\n"
          ]
        }
      ]
    },
    {
      "cell_type": "code",
      "source": [
        "print(\"Berat Badan Maida adalah\",Berat_Badan,\"kg.\")"
      ],
      "metadata": {
        "colab": {
          "base_uri": "https://localhost:8080/"
        },
        "id": "O-OqEoR4YkHs",
        "outputId": "10c1b465-5325-4eaa-92e9-db0cca16bab8"
      },
      "execution_count": null,
      "outputs": [
        {
          "output_type": "stream",
          "name": "stdout",
          "text": [
            "Berat Badan Maida adalah 50 kg.\n"
          ]
        }
      ]
    },
    {
      "cell_type": "code",
      "source": [
        "print(\"Halo nama saya \"+Nama+\". Tinggi badan saya adalah \"+ str(Tinggi_Badan)+ \"cm.\")"
      ],
      "metadata": {
        "colab": {
          "base_uri": "https://localhost:8080/"
        },
        "id": "2aGQBiD4aggO",
        "outputId": "ac1032b2-a1cf-43f7-c7ed-7715202fc990"
      },
      "execution_count": null,
      "outputs": [
        {
          "output_type": "stream",
          "name": "stdout",
          "text": [
            "Halo nama saya Maida Saniyah. Tinggi badan saya adalah 152cm.\n"
          ]
        }
      ]
    },
    {
      "cell_type": "code",
      "source": [
        "print(f\"Halo nama saya {Nama}. Tinggi badan saya adalah {Tinggi_Badan}cm.\")"
      ],
      "metadata": {
        "colab": {
          "base_uri": "https://localhost:8080/"
        },
        "id": "l7JOC2iLbHbr",
        "outputId": "9bcb9848-73ae-4f46-aeec-fb296aa018b3"
      },
      "execution_count": null,
      "outputs": [
        {
          "output_type": "stream",
          "name": "stdout",
          "text": [
            "Halo nama saya Maida Saniyah. Tinggi badan saya adalah 152cm.\n"
          ]
        }
      ]
    },
    {
      "cell_type": "markdown",
      "source": [
        "#Escape Character"
      ],
      "metadata": {
        "id": "0ow-QrZ9VR_G"
      }
    },
    {
      "cell_type": "code",
      "source": [
        "print(\"Nama : Maida Saniyah\\nkelas: XI.3\\nNo. absen:11\")"
      ],
      "metadata": {
        "colab": {
          "base_uri": "https://localhost:8080/"
        },
        "id": "H_MbxzzBVf0X",
        "outputId": "7f56784d-4d22-4887-d317-bcbc9df0bb8a"
      },
      "execution_count": null,
      "outputs": [
        {
          "output_type": "stream",
          "name": "stdout",
          "text": [
            "Nama : Maida Saniyah\n",
            "kelas: XI.3\n",
            "No. absen:11\n"
          ]
        }
      ]
    },
    {
      "cell_type": "code",
      "source": [
        "print(\"\"\"Nama\\t\\t: Maida Saniyah\n",
        "Kelas\\t\\t: XI.3\n",
        "No. absen\\t:11\"\"\")"
      ],
      "metadata": {
        "colab": {
          "base_uri": "https://localhost:8080/"
        },
        "id": "G0GR8xVXWMMP",
        "outputId": "38a6281f-93ed-4905-df56-65f64f8c9135"
      },
      "execution_count": null,
      "outputs": [
        {
          "output_type": "stream",
          "name": "stdout",
          "text": [
            "Nama\t\t: Maida Saniyah\n",
            "Kelas\t\t: XI.3\n",
            "No. absen\t:11\n"
          ]
        }
      ]
    },
    {
      "cell_type": "code",
      "source": [
        "print(\"Nama:Maida Saniyah\")\n",
        "print(\"kelas: XI.3\")\n",
        "print(\"No. absen: 11\")"
      ],
      "metadata": {
        "colab": {
          "base_uri": "https://localhost:8080/"
        },
        "id": "jH0MZ_fPXJkT",
        "outputId": "5cb8e7ff-3cf7-4f33-beea-1103f102cc77"
      },
      "execution_count": null,
      "outputs": [
        {
          "output_type": "stream",
          "name": "stdout",
          "text": [
            "Nama:Maida Saniyah\n",
            "kelas: XI.3\n",
            "No. absen: 11\n"
          ]
        }
      ]
    },
    {
      "cell_type": "code",
      "source": [
        "print('Maida Saniyah')"
      ],
      "metadata": {
        "colab": {
          "base_uri": "https://localhost:8080/"
        },
        "id": "Qzq03QrQbWqP",
        "outputId": "73140f5d-6f67-4cd6-d60d-7ea78d6920b1"
      },
      "execution_count": null,
      "outputs": [
        {
          "output_type": "stream",
          "name": "stdout",
          "text": [
            "Maida Saniyah\n"
          ]
        }
      ]
    },
    {
      "cell_type": "code",
      "source": [
        "print(\"Maida Saniyah\")"
      ],
      "metadata": {
        "colab": {
          "base_uri": "https://localhost:8080/"
        },
        "id": "E4CyKnI7bkB1",
        "outputId": "088b5fee-6003-461b-8f4d-63b24eb941c1"
      },
      "execution_count": null,
      "outputs": [
        {
          "output_type": "stream",
          "name": "stdout",
          "text": [
            "Maida Saniyah\n"
          ]
        }
      ]
    },
    {
      "cell_type": "code",
      "source": [
        "print('Habib Ja\\'far')"
      ],
      "metadata": {
        "colab": {
          "base_uri": "https://localhost:8080/"
        },
        "id": "d_RSAn4ybpeJ",
        "outputId": "a6688093-735c-4dbc-9b8b-3f0bf129f44e"
      },
      "execution_count": null,
      "outputs": [
        {
          "output_type": "stream",
          "name": "stdout",
          "text": [
            "Habib Ja'far\n"
          ]
        }
      ]
    },
    {
      "cell_type": "code",
      "source": [
        "print(\"Bu Shinta berkata, \\\"Tolong fokus ke layar TV!\\\".\")"
      ],
      "metadata": {
        "colab": {
          "base_uri": "https://localhost:8080/"
        },
        "id": "0e9ieAFzbz-5",
        "outputId": "a24b6564-5f62-475f-a8fd-65a4128dfae4"
      },
      "execution_count": null,
      "outputs": [
        {
          "output_type": "stream",
          "name": "stdout",
          "text": [
            "Bu Shinta berkata, \"Tolong fokus ke layar TV!\".\n"
          ]
        }
      ]
    },
    {
      "cell_type": "code",
      "source": [
        "print(\"Lokasi file penyimpanan tugas KKA ada di Local disk D:\\\\Man Damak\\\\KKA\\\\Tugas\")"
      ],
      "metadata": {
        "colab": {
          "base_uri": "https://localhost:8080/"
        },
        "id": "osa7BvZkcOjg",
        "outputId": "d8d1bcd9-0808-4c02-d6f5-8479bbb72bb3"
      },
      "execution_count": null,
      "outputs": [
        {
          "output_type": "stream",
          "name": "stdout",
          "text": [
            "Lokasi file penyimpanan tugas KKA ada di Local disk D:\\Man Damak\\KKA\\Tugas\n"
          ]
        }
      ]
    },
    {
      "cell_type": "markdown",
      "source": [
        "#Parameter Fungsi Print"
      ],
      "metadata": {
        "id": "moBISnHLXm41"
      }
    },
    {
      "cell_type": "code",
      "source": [
        "nama_siswa_1 = \"Yafi\"\n",
        "nama_siswa_2 = \"Wahyu\""
      ],
      "metadata": {
        "id": "a7yFydruXsMO"
      },
      "execution_count": null,
      "outputs": []
    },
    {
      "cell_type": "code",
      "source": [
        "print(nama_siswa_1, end=\"&\")\n",
        "print(nama_siswa_2)"
      ],
      "metadata": {
        "colab": {
          "base_uri": "https://localhost:8080/"
        },
        "id": "w-QUpTlVYK_Q",
        "outputId": "6cdc33b0-7794-4aa1-9c97-c0bbeb1e629a"
      },
      "execution_count": null,
      "outputs": [
        {
          "output_type": "stream",
          "name": "stdout",
          "text": [
            "Yafi&Wahyu\n"
          ]
        }
      ]
    },
    {
      "cell_type": "code",
      "source": [
        "print(nama_siswa_1, nama_siswa_2, sep=\"/\")"
      ],
      "metadata": {
        "colab": {
          "base_uri": "https://localhost:8080/"
        },
        "id": "yLat9xUvZiDs",
        "outputId": "8d067c49-0041-4efd-e35b-377dce866ce8"
      },
      "execution_count": null,
      "outputs": [
        {
          "output_type": "stream",
          "name": "stdout",
          "text": [
            "Yafi/Wahyu\n"
          ]
        }
      ]
    },
    {
      "cell_type": "code",
      "source": [
        "nama_siswa_3 = \"Dzakka\"\n",
        "nama_siswa_4 = \"Haikal\"\n",
        "nama_siswa_5 = \"Hilma\""
      ],
      "metadata": {
        "id": "EigjKCXGZzcI"
      },
      "execution_count": null,
      "outputs": []
    },
    {
      "cell_type": "code",
      "source": [
        "print(nama_siswa_5, end=\"*\")\n",
        "print(nama_siswa_4, end=\"*\")\n",
        "print(nama_siswa_3, end=\"*\")\n",
        "print(nama_siswa_5)"
      ],
      "metadata": {
        "colab": {
          "base_uri": "https://localhost:8080/"
        },
        "id": "q9bfFbWyaPgT",
        "outputId": "9a5aca39-91f4-40fa-a376-cf4a1eda4151"
      },
      "execution_count": null,
      "outputs": [
        {
          "output_type": "stream",
          "name": "stdout",
          "text": [
            "Hilma*Haikal*Dzakka*Hilma\n"
          ]
        }
      ]
    },
    {
      "cell_type": "code",
      "source": [
        "print(nama_siswa_4, nama_siswa_3, nama_siswa_5, nama_siswa_3, sep=\"~\")"
      ],
      "metadata": {
        "colab": {
          "base_uri": "https://localhost:8080/"
        },
        "id": "m1cshPzfbL6Z",
        "outputId": "fcc8b930-f380-43a2-9a1a-01feede8a61c"
      },
      "execution_count": null,
      "outputs": [
        {
          "output_type": "stream",
          "name": "stdout",
          "text": [
            "Haikal~Dzakka~Hilma~Dzakka\n"
          ]
        }
      ]
    }
  ]
}